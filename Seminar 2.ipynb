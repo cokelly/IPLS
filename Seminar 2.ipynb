{
 "cells": [
  {
   "cell_type": "markdown",
   "id": "685f2dec-5e5f-42c4-a965-b31ee48a0fc2",
   "metadata": {},
   "source": [
    "# Data and (machine) learning\n",
    "\n",
    "In this session we are going to think a bit about how computers use data to 'learn'"
   ]
  },
  {
   "cell_type": "markdown",
   "id": "e80f49f8-9240-492e-85e3-698832c18ba4",
   "metadata": {},
   "source": [
    "Remember yesterday we built a rough street map of Belfast using the trees dataset?\n"
   ]
  },
  {
   "cell_type": "markdown",
   "id": "04437b4d-3524-4532-9502-b611a5f87989",
   "metadata": {},
   "source": [
    "## Import some libraries"
   ]
  },
  {
   "cell_type": "code",
   "execution_count": 66,
   "id": "c39f5b80-b51e-404e-9eda-ef7681675738",
   "metadata": {},
   "outputs": [],
   "source": [
    "# Pandas for analysising tabular data\n",
    "import pandas as pd\n",
    "# Seaborn for plots\n",
    "import seaborn as sns\n",
    "# Import numpy for sums\n",
    "import numpy as np\n",
    "# Statsmodels for statistical tables\n",
    "import statsmodels\n",
    "import statsmodels.api as sm"
   ]
  },
  {
   "cell_type": "code",
   "execution_count": null,
   "id": "89e4ef5c-82c6-40d6-a3f2-542a3ed10f3d",
   "metadata": {},
   "outputs": [],
   "source": [
    "belfast_trees = pd.read_csv(\"https://www.belfastcity.gov.uk/getmedia/262a1f01-f219-4780-835e-7a833bdd1e1c/odTrees.csv\")"
   ]
  },
  {
   "cell_type": "code",
   "execution_count": null,
   "id": "bf7db5b8-d7d9-41ae-a1a7-58bf0c291a2b",
   "metadata": {},
   "outputs": [],
   "source": [
    "sns.set(rc={\"figure.figsize\": (18, 14)})\n",
    "sns.scatterplot(x = \"LONGITUDE\",\n",
    "            y = \"LATITUDE\",\n",
    "            hue = \"TYPEOFTREE\",\n",
    "            alpha = 0.2,\n",
    "            data = belfast_trees)"
   ]
  },
  {
   "cell_type": "markdown",
   "id": "9ec43e95-e2df-4d6e-a7c0-10ab0687aff9",
   "metadata": {},
   "source": [
    "## Today"
   ]
  },
  {
   "cell_type": "markdown",
   "id": "c452adbb-bd94-469a-b6f8-c9a659775de3",
   "metadata": {},
   "source": [
    "Today we are going to use subsets of three datasets: \n",
    "\n",
    "1. The [Varieties of Democracy](https://www.v-dem.net/) dataset\n",
    "2. The [Modern Slavery Index](https://www.globalslaveryindex.org/)\n",
    "3. The [Gapminder](https://www.gapminder.org/) dataset\n",
    "\n",
    "Specifically we will use data from 2000/2002."
   ]
  },
  {
   "cell_type": "markdown",
   "id": "cf882b0e-1851-4217-b581-2ed32c227a97",
   "metadata": {},
   "source": [
    "Some things to note about how Pandas represents data:\n",
    "\n",
    "1. The index\n",
    "2. Variables in columns; observations in rows\n",
    "3. Single datatypes in each column (categorical and numerical)\n",
    "    * Though we could add ordinal by, say, rank ordering by GDP"
   ]
  },
  {
   "cell_type": "markdown",
   "id": "137a138b-03b9-4481-a560-af70a75bbf98",
   "metadata": {},
   "source": [
    "## Loading and examining the data"
   ]
  },
  {
   "cell_type": "code",
   "execution_count": 8,
   "id": "e60fcbde-df46-47c5-b3aa-0d0e73109ceb",
   "metadata": {},
   "outputs": [],
   "source": [
    "data = pd.read_csv(\"gapminder_modern_slavery_and_vdem.csv\")"
   ]
  },
  {
   "cell_type": "markdown",
   "id": "5d901343-a1a9-498b-b5c0-23ce5d5276c3",
   "metadata": {},
   "source": [
    "What does the dataframe look like?"
   ]
  },
  {
   "cell_type": "markdown",
   "id": "5fdcc4d9-220e-4d40-a037-92198c069b39",
   "metadata": {},
   "source": [
    "### Scales"
   ]
  },
  {
   "cell_type": "markdown",
   "id": "570828e7-4110-4d45-be55-59820bb64ab6",
   "metadata": {},
   "source": [
    "Let's place GDP per capita on a 'log' scale.\n",
    "\n",
    "This means that every space along the bar is a multiple of ten numerically.\n",
    "\n",
    "So instead of 10 $\\rightarrow$ 20 $\\rightarrow$ 30 etc, we will get 10 $\\rightarrow$ 100 $\\rightarrow$ 1000 etc.\n",
    "\n",
    "You used to have to calculate this using 'log tables': now we can use the 'Numerical Python' [numpy](https://numpy.org/) library to do it for us. A library is simply a package containing functions that someone else has written already.\n",
    "\n",
    "The process is to use a function in Pandas (`apply`) that performs a calculation on each cell in a column:"
   ]
  },
  {
   "cell_type": "markdown",
   "id": "fb764cc7-e05d-4c3f-9d62-2b7ef6c74405",
   "metadata": {},
   "source": [
    "# A question"
   ]
  },
  {
   "cell_type": "markdown",
   "id": "8c0d6c7a-6ee7-47b3-959f-83d49ed3e942",
   "metadata": {},
   "source": [
    "What if any of the factors determine the modern slavery score?"
   ]
  },
  {
   "cell_type": "markdown",
   "id": "a2f9826e-2854-4bd7-8fbd-832002b51f86",
   "metadata": {},
   "source": [
    "We can 'model' some of this by looking at data on a plot:"
   ]
  },
  {
   "cell_type": "markdown",
   "id": "58f1e3c3-5ae9-44d5-be03-dc694e2e8e2c",
   "metadata": {},
   "source": [
    "We are now going to try a very simple plotting device to trace the relationship between the two:"
   ]
  },
  {
   "cell_type": "markdown",
   "id": "1743b3f0-6d42-4dc2-ad65-29deec477bab",
   "metadata": {},
   "source": [
    "What about gender equality?"
   ]
  },
  {
   "cell_type": "markdown",
   "id": "a1f38046-2430-4030-82c6-136e9208c21f",
   "metadata": {},
   "source": [
    "What does this all mean?"
   ]
  },
  {
   "cell_type": "code",
   "execution_count": null,
   "id": "b57ced4e-c48a-43cd-a179-7ad47d4b5726",
   "metadata": {},
   "outputs": [],
   "source": []
  },
  {
   "cell_type": "markdown",
   "id": "4e8de530-4264-4014-a6e0-bf9740b5a782",
   "metadata": {},
   "source": [
    "In essence the model reflected in the plot says the following: as you go right by 1 in 'power distributed by gender', 'modern_slavery_score' goes up by a certain amount. The more it goes up - the steeper the slope on the line - the stronger the relationship between the two variables.\n",
    "\n",
    "We can represent the slope's shape with a relatively simple equation for caclulating `y` from:\n",
    "\n",
    "1. The predicted value of `y` when `x` is zero\n",
    "2. How much on average `y` goes up or down when `x` goes up\n",
    "3. A constant (that we'd have to figure out)\n",
    "4. An error rate (how variable the point's locations are on the plot)"
   ]
  },
  {
   "cell_type": "code",
   "execution_count": null,
   "id": "46b4e8d7-b935-4e07-8314-5d80449e5cc3",
   "metadata": {},
   "outputs": [],
   "source": []
  },
  {
   "cell_type": "markdown",
   "id": "e85e35b9-8b78-4e34-962b-8419e30a6f70",
   "metadata": {},
   "source": [
    "This is a 'linear' equation used in 'ordinary least squares' regression (roughly speaking):\n",
    "\n",
    "$$y_i = \\alpha + \\beta{}x_i + \\epsilon_i$$"
   ]
  },
  {
   "cell_type": "markdown",
   "id": "6e1c7418-2da6-4238-b07d-fdefd0be2369",
   "metadata": {
    "tags": []
   },
   "source": [
    "# Let's make a 'regression table' and talk about what it all means"
   ]
  },
  {
   "cell_type": "code",
   "execution_count": null,
   "id": "0e2927b7-a3f2-400e-8a9d-dff6f10012b3",
   "metadata": {},
   "outputs": [],
   "source": []
  },
  {
   "cell_type": "markdown",
   "id": "a0cdb189-1074-4d1d-ab11-7b43a832f22a",
   "metadata": {},
   "source": [
    "# What has this got to do with AI?!"
   ]
  },
  {
   "cell_type": "code",
   "execution_count": null,
   "id": "e9ec1619-5540-4049-a0f3-3166013f9b0c",
   "metadata": {},
   "outputs": [],
   "source": []
  },
  {
   "cell_type": "markdown",
   "id": "96e406cf-b7b5-46be-b468-3209089defa6",
   "metadata": {},
   "source": [
    "Actually what we did there was build a rules-based model for _predicting_ one thing based on data we had about something else. \n",
    "\n",
    "If we didn't have a country's data point on slavery, we could use this model to make a prediction based on a gender equality measure plus (the log of) it's GDP per capita."
   ]
  },
  {
   "cell_type": "markdown",
   "id": "bd7b7111-8fe6-426f-bfd1-5600cf57de5e",
   "metadata": {},
   "source": [
    "### **ML and AI does the same thing**"
   ]
  },
  {
   "cell_type": "markdown",
   "id": "03e59788-e6ab-4bb8-8287-8075213202ed",
   "metadata": {},
   "source": [
    "(except its rules are less explicit: we feed in the data but then use different methods to help the computer 'learn' how best to interpret the data so as to predict the 'dependent' variable)"
   ]
  },
  {
   "cell_type": "markdown",
   "id": "0cf59fe0-0e6a-45cc-803b-c1ee8473526a",
   "metadata": {},
   "source": [
    "# Methods (and jargon)\n",
    "\n",
    "1. Linear regression\n",
    "2. Random walks/random forest\n",
    "3. Monte Carlo simulations\n",
    "4. Neural networks (a bit different)\n",
    "5. Deep learning\n",
    "\n",
    "Back to the presentation..."
   ]
  }
 ],
 "metadata": {
  "kernelspec": {
   "display_name": "Python 3 (ipykernel)",
   "language": "python",
   "name": "python3"
  },
  "language_info": {
   "codemirror_mode": {
    "name": "ipython",
    "version": 3
   },
   "file_extension": ".py",
   "mimetype": "text/x-python",
   "name": "python",
   "nbconvert_exporter": "python",
   "pygments_lexer": "ipython3",
   "version": "3.9.12"
  }
 },
 "nbformat": 4,
 "nbformat_minor": 5
}
